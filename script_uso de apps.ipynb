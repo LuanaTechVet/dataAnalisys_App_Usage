{
 "cells": [
  {
   "cell_type": "code",
   "execution_count": 2,
   "id": "0ec8453c-b64e-42cb-a99f-3df616845484",
   "metadata": {},
   "outputs": [],
   "source": [
    "import pandas as pd\n",
    "import numpy as np\n",
    "import matplotlib.pyplot as plt"
   ]
  },
  {
   "cell_type": "code",
   "execution_count": 3,
   "id": "16f34202-0f3f-4b38-85a4-5d5bf04ad32f",
   "metadata": {
    "collapsed": true,
    "jupyter": {
     "outputs_hidden": true
    }
   },
   "outputs": [
    {
     "name": "stdout",
     "output_type": "stream",
     "text": [
      "Collecting pandas\n",
      "  Downloading pandas-2.3.1-cp313-cp313-win_amd64.whl.metadata (19 kB)\n",
      "Collecting numpy>=1.26.0 (from pandas)\n",
      "  Using cached numpy-2.3.1-cp313-cp313-win_amd64.whl.metadata (60 kB)\n",
      "Requirement already satisfied: python-dateutil>=2.8.2 in c:\\users\\luana\\anaconda3\\envs\\datascience\\lib\\site-packages (from pandas) (2.9.0.post0)\n",
      "Collecting pytz>=2020.1 (from pandas)\n",
      "  Downloading pytz-2025.2-py2.py3-none-any.whl.metadata (22 kB)\n",
      "Collecting tzdata>=2022.7 (from pandas)\n",
      "  Downloading tzdata-2025.2-py2.py3-none-any.whl.metadata (1.4 kB)\n",
      "Requirement already satisfied: six>=1.5 in c:\\users\\luana\\anaconda3\\envs\\datascience\\lib\\site-packages (from python-dateutil>=2.8.2->pandas) (1.17.0)\n",
      "Downloading pandas-2.3.1-cp313-cp313-win_amd64.whl (11.0 MB)\n",
      "   ---------------------------------------- 0.0/11.0 MB ? eta -:--:--\n",
      "   ---------------------------------------- 0.0/11.0 MB ? eta -:--:--\n",
      "    --------------------------------------- 0.3/11.0 MB ? eta -:--:--\n",
      "   - -------------------------------------- 0.5/11.0 MB 1.1 MB/s eta 0:00:10\n",
      "   -- ------------------------------------- 0.8/11.0 MB 983.6 kB/s eta 0:00:11\n",
      "   -- ------------------------------------- 0.8/11.0 MB 983.6 kB/s eta 0:00:11\n",
      "   -- ------------------------------------- 0.8/11.0 MB 983.6 kB/s eta 0:00:11\n",
      "   --- ------------------------------------ 1.0/11.0 MB 771.0 kB/s eta 0:00:13\n",
      "   ---- ----------------------------------- 1.3/11.0 MB 781.6 kB/s eta 0:00:13\n",
      "   ----- ---------------------------------- 1.6/11.0 MB 826.7 kB/s eta 0:00:12\n",
      "   ----- ---------------------------------- 1.6/11.0 MB 826.7 kB/s eta 0:00:12\n",
      "   ------ --------------------------------- 1.8/11.0 MB 854.2 kB/s eta 0:00:11\n",
      "   ------- -------------------------------- 2.1/11.0 MB 892.5 kB/s eta 0:00:10\n",
      "   -------- ------------------------------- 2.4/11.0 MB 899.6 kB/s eta 0:00:10\n",
      "   --------- ------------------------------ 2.6/11.0 MB 928.6 kB/s eta 0:00:10\n",
      "   ---------- ----------------------------- 2.9/11.0 MB 954.8 kB/s eta 0:00:09\n",
      "   ----------- ---------------------------- 3.1/11.0 MB 972.9 kB/s eta 0:00:09\n",
      "   ------------ --------------------------- 3.4/11.0 MB 1.0 MB/s eta 0:00:08\n",
      "   ------------- -------------------------- 3.7/11.0 MB 1.0 MB/s eta 0:00:08\n",
      "   -------------- ------------------------- 3.9/11.0 MB 1.1 MB/s eta 0:00:07\n",
      "   --------------- ------------------------ 4.2/11.0 MB 1.1 MB/s eta 0:00:07\n",
      "   ---------------- ----------------------- 4.5/11.0 MB 1.1 MB/s eta 0:00:07\n",
      "   ----------------- ---------------------- 4.7/11.0 MB 1.1 MB/s eta 0:00:06\n",
      "   ------------------ --------------------- 5.0/11.0 MB 1.1 MB/s eta 0:00:06\n",
      "   ------------------- -------------------- 5.2/11.0 MB 1.1 MB/s eta 0:00:06\n",
      "   ------------------- -------------------- 5.2/11.0 MB 1.1 MB/s eta 0:00:06\n",
      "   -------------------- ------------------- 5.5/11.0 MB 1.0 MB/s eta 0:00:06\n",
      "   -------------------- ------------------- 5.8/11.0 MB 1.0 MB/s eta 0:00:05\n",
      "   --------------------- ------------------ 6.0/11.0 MB 1.1 MB/s eta 0:00:05\n",
      "   --------------------- ------------------ 6.0/11.0 MB 1.1 MB/s eta 0:00:05\n",
      "   ---------------------- ----------------- 6.3/11.0 MB 1.0 MB/s eta 0:00:05\n",
      "   ----------------------- ---------------- 6.6/11.0 MB 1.0 MB/s eta 0:00:05\n",
      "   ------------------------- -------------- 7.1/11.0 MB 1.1 MB/s eta 0:00:04\n",
      "   -------------------------- ------------- 7.3/11.0 MB 1.1 MB/s eta 0:00:04\n",
      "   --------------------------- ------------ 7.6/11.0 MB 1.1 MB/s eta 0:00:04\n",
      "   ---------------------------- ----------- 7.9/11.0 MB 1.1 MB/s eta 0:00:03\n",
      "   ----------------------------- ---------- 8.1/11.0 MB 1.1 MB/s eta 0:00:03\n",
      "   ------------------------------ --------- 8.4/11.0 MB 1.1 MB/s eta 0:00:03\n",
      "   ------------------------------- -------- 8.7/11.0 MB 1.1 MB/s eta 0:00:03\n",
      "   --------------------------------- ------ 9.2/11.0 MB 1.1 MB/s eta 0:00:02\n",
      "   ---------------------------------- ----- 9.4/11.0 MB 1.2 MB/s eta 0:00:02\n",
      "   ---------------------------------- ----- 9.4/11.0 MB 1.2 MB/s eta 0:00:02\n",
      "   ----------------------------------- ---- 9.7/11.0 MB 1.1 MB/s eta 0:00:02\n",
      "   ------------------------------------ --- 10.0/11.0 MB 1.1 MB/s eta 0:00:01\n",
      "   ------------------------------------- -- 10.2/11.0 MB 1.1 MB/s eta 0:00:01\n",
      "   -------------------------------------- - 10.5/11.0 MB 1.1 MB/s eta 0:00:01\n",
      "   ---------------------------------------  10.7/11.0 MB 1.1 MB/s eta 0:00:01\n",
      "   ---------------------------------------- 11.0/11.0 MB 1.1 MB/s eta 0:00:00\n",
      "Using cached numpy-2.3.1-cp313-cp313-win_amd64.whl (12.7 MB)\n",
      "Downloading pytz-2025.2-py2.py3-none-any.whl (509 kB)\n",
      "Downloading tzdata-2025.2-py2.py3-none-any.whl (347 kB)\n",
      "Installing collected packages: pytz, tzdata, numpy, pandas\n",
      "\n",
      "   ---------------------------------------- 0/4 [pytz]\n",
      "   ---------- ----------------------------- 1/4 [tzdata]\n",
      "   -------------------- ------------------- 2/4 [numpy]\n",
      "   -------------------- ------------------- 2/4 [numpy]\n",
      "   -------------------- ------------------- 2/4 [numpy]\n",
      "   -------------------- ------------------- 2/4 [numpy]\n",
      "   -------------------- ------------------- 2/4 [numpy]\n",
      "   -------------------- ------------------- 2/4 [numpy]\n",
      "   -------------------- ------------------- 2/4 [numpy]\n",
      "   -------------------- ------------------- 2/4 [numpy]\n",
      "   -------------------- ------------------- 2/4 [numpy]\n",
      "   -------------------- ------------------- 2/4 [numpy]\n",
      "   -------------------- ------------------- 2/4 [numpy]\n",
      "   -------------------- ------------------- 2/4 [numpy]\n",
      "   -------------------- ------------------- 2/4 [numpy]\n",
      "   -------------------- ------------------- 2/4 [numpy]\n",
      "   -------------------- ------------------- 2/4 [numpy]\n",
      "   ------------------------------ --------- 3/4 [pandas]\n",
      "   ------------------------------ --------- 3/4 [pandas]\n",
      "   ------------------------------ --------- 3/4 [pandas]\n",
      "   ------------------------------ --------- 3/4 [pandas]\n",
      "   ------------------------------ --------- 3/4 [pandas]\n",
      "   ------------------------------ --------- 3/4 [pandas]\n",
      "   ------------------------------ --------- 3/4 [pandas]\n",
      "   ------------------------------ --------- 3/4 [pandas]\n",
      "   ------------------------------ --------- 3/4 [pandas]\n",
      "   ------------------------------ --------- 3/4 [pandas]\n",
      "   ------------------------------ --------- 3/4 [pandas]\n",
      "   ------------------------------ --------- 3/4 [pandas]\n",
      "   ------------------------------ --------- 3/4 [pandas]\n",
      "   ------------------------------ --------- 3/4 [pandas]\n",
      "   ------------------------------ --------- 3/4 [pandas]\n",
      "   ------------------------------ --------- 3/4 [pandas]\n",
      "   ------------------------------ --------- 3/4 [pandas]\n",
      "   ------------------------------ --------- 3/4 [pandas]\n",
      "   ------------------------------ --------- 3/4 [pandas]\n",
      "   ------------------------------ --------- 3/4 [pandas]\n",
      "   ------------------------------ --------- 3/4 [pandas]\n",
      "   ------------------------------ --------- 3/4 [pandas]\n",
      "   ------------------------------ --------- 3/4 [pandas]\n",
      "   ------------------------------ --------- 3/4 [pandas]\n",
      "   ------------------------------ --------- 3/4 [pandas]\n",
      "   ------------------------------ --------- 3/4 [pandas]\n",
      "   ------------------------------ --------- 3/4 [pandas]\n",
      "   ------------------------------ --------- 3/4 [pandas]\n",
      "   ------------------------------ --------- 3/4 [pandas]\n",
      "   ------------------------------ --------- 3/4 [pandas]\n",
      "   ------------------------------ --------- 3/4 [pandas]\n",
      "   ------------------------------ --------- 3/4 [pandas]\n",
      "   ------------------------------ --------- 3/4 [pandas]\n",
      "   ------------------------------ --------- 3/4 [pandas]\n",
      "   ------------------------------ --------- 3/4 [pandas]\n",
      "   ------------------------------ --------- 3/4 [pandas]\n",
      "   ------------------------------ --------- 3/4 [pandas]\n",
      "   ------------------------------ --------- 3/4 [pandas]\n",
      "   ------------------------------ --------- 3/4 [pandas]\n",
      "   ------------------------------ --------- 3/4 [pandas]\n",
      "   ---------------------------------------- 4/4 [pandas]\n",
      "\n",
      "Successfully installed numpy-2.3.1 pandas-2.3.1 pytz-2025.2 tzdata-2025.2\n"
     ]
    }
   ],
   "source": [
    "!pip install pandas"
   ]
  },
  {
   "cell_type": "code",
   "execution_count": null,
   "id": "149bed46-2978-45f5-adb7-185fea38e9c3",
   "metadata": {},
   "outputs": [],
   "source": []
  },
  {
   "cell_type": "code",
   "execution_count": 11,
   "id": "9b28bf15-a6e4-49fa-847c-12b5766f9e1f",
   "metadata": {
    "collapsed": true,
    "jupyter": {
     "outputs_hidden": true
    },
    "scrolled": true
   },
   "outputs": [
    {
     "name": "stdout",
     "output_type": "stream",
     "text": [
      "Collecting openpyxl\n",
      "  Downloading openpyxl-3.1.5-py2.py3-none-any.whl.metadata (2.5 kB)\n",
      "Collecting et-xmlfile (from openpyxl)\n",
      "  Downloading et_xmlfile-2.0.0-py3-none-any.whl.metadata (2.7 kB)\n",
      "Downloading openpyxl-3.1.5-py2.py3-none-any.whl (250 kB)\n",
      "Downloading et_xmlfile-2.0.0-py3-none-any.whl (18 kB)\n",
      "Installing collected packages: et-xmlfile, openpyxl\n",
      "\n",
      "   -------------------- ------------------- 1/2 [openpyxl]\n",
      "   -------------------- ------------------- 1/2 [openpyxl]\n",
      "   ---------------------------------------- 2/2 [openpyxl]\n",
      "\n",
      "Successfully installed et-xmlfile-2.0.0 openpyxl-3.1.5\n"
     ]
    }
   ],
   "source": [
    "!pip install openpyxl"
   ]
  },
  {
   "cell_type": "code",
   "execution_count": 19,
   "id": "5f76bcbc-fcdc-4456-83fd-44b742b282c7",
   "metadata": {
    "collapsed": true,
    "jupyter": {
     "outputs_hidden": true
    },
    "scrolled": true
   },
   "outputs": [
    {
     "name": "stdout",
     "output_type": "stream",
     "text": [
      "                                   ID            StartDate  \\\n",
      "0      Unique ID for each participant            StartDate   \n",
      "1                                   1  2012-09-26 07:46:07   \n",
      "2                                   2  2012-09-26 07:45:19   \n",
      "3                                   3  2012-09-26 07:45:35   \n",
      "4                                   4  2012-09-26 16:58:29   \n",
      "...                               ...                  ...   \n",
      "10204                           10204  2012-11-16 23:50:23   \n",
      "10205                           10205  2012-11-13 07:11:27   \n",
      "10206                           10206  2012-11-13 00:27:52   \n",
      "10207                           10207  2012-11-23 08:00:32   \n",
      "10208                           10208  2012-11-23 15:22:42   \n",
      "\n",
      "                   EndDate                                    Response Status  \\\n",
      "0                  EndDate  0=incomplete response, 1=complete response, 2=...   \n",
      "1      2012-09-26 07:46:21                                                  2   \n",
      "2      2012-09-26 07:56:41                                                  1   \n",
      "3      2012-09-26 08:01:56                                                  1   \n",
      "4      2012-09-26 17:05:50                                                  1   \n",
      "...                    ...                                                ...   \n",
      "10204  2012-11-17 00:03:09                                                  0   \n",
      "10205  2012-11-13 07:12:10                                                  0   \n",
      "10206  2012-11-13 00:29:14                                                  0   \n",
      "10207  2012-11-23 08:00:49                                                  2   \n",
      "10208  2012-11-23 15:28:57                                                  1   \n",
      "\n",
      "      Participant Type                  Q1_1_TEXT                  Q1_2_TEXT  \\\n",
      "0      1=ours, 2=panel  Browser Meta Info-Browser  Browser Meta Info-Version   \n",
      "1                    1                     Chrome               21.0.1180.89   \n",
      "2                    1              Safari iPhone                          6   \n",
      "3                    1                     Safari                          6   \n",
      "4                    1                    Firefox                     15.0.1   \n",
      "...                ...                        ...                        ...   \n",
      "10204                2                       MSIE                          8   \n",
      "10205                2                       MSIE                          8   \n",
      "10206                2                       MSIE                          8   \n",
      "10207                2                     Chrome               23.0.1271.64   \n",
      "10208                2                       MSIE                          9   \n",
      "\n",
      "                                Q1_3_TEXT  \\\n",
      "0      Browser Meta Info-Operating System   \n",
      "1                                   WOW64   \n",
      "2         CPU iPhone OS 6_0 like Mac OS X   \n",
      "3                CPU OS 6_0 like Mac OS X   \n",
      "4                     Intel Mac OS X 10.6   \n",
      "...                                   ...   \n",
      "10204                      Windows NT 5.1   \n",
      "10205                      Windows NT 5.1   \n",
      "10206                      Windows NT 5.1   \n",
      "10207                      Windows NT 5.1   \n",
      "10208                      Windows NT 6.1   \n",
      "\n",
      "                                 Q1_4_TEXT                        Q1_5_TEXT  \\\n",
      "0      Browser Meta Info-Screen Resolution  Browser Meta Info-Flash Version   \n",
      "1                                 1280x800                          11.3.31   \n",
      "2                                  320x480                               -1   \n",
      "3                                 768x1024                               -1   \n",
      "4                                1920x1200                         11.4.402   \n",
      "...                                    ...                              ...   \n",
      "10204                             1366x768                     11.4.402.287   \n",
      "10205                            1280x1024                       10.2.159.1   \n",
      "10206                             1024x768                      11.1.102.63   \n",
      "10207                             1024x768                          11.5.31   \n",
      "10208                              960x540                      10.3.181.23   \n",
      "\n",
      "       ...                                              Q30_1  \\\n",
      "0      ...  Your personality may influence the types of ap...   \n",
      "1      ...                                                NaN   \n",
      "2      ...                                                  6   \n",
      "3      ...                                                  4   \n",
      "4      ...                                                  4   \n",
      "...    ...                                                ...   \n",
      "10204  ...                                                NaN   \n",
      "10205  ...                                                NaN   \n",
      "10206  ...                                                NaN   \n",
      "10207  ...                                                NaN   \n",
      "10208  ...                                                  7   \n",
      "\n",
      "                                                   Q30_2  \\\n",
      "0      Your personality may influence the types of ap...   \n",
      "1                                                    NaN   \n",
      "2                                                      3   \n",
      "3                                                      4   \n",
      "4                                                      3   \n",
      "...                                                  ...   \n",
      "10204                                                NaN   \n",
      "10205                                                NaN   \n",
      "10206                                                NaN   \n",
      "10207                                                NaN   \n",
      "10208                                                  6   \n",
      "\n",
      "                                                   Q30_3  \\\n",
      "0      Your personality may influence the types of ap...   \n",
      "1                                                    NaN   \n",
      "2                                                      7   \n",
      "3                                                      5   \n",
      "4                                                      6   \n",
      "...                                                  ...   \n",
      "10204                                                NaN   \n",
      "10205                                                NaN   \n",
      "10206                                                NaN   \n",
      "10207                                                NaN   \n",
      "10208                                                  6   \n",
      "\n",
      "                                                   Q30_4  \\\n",
      "0      Your personality may influence the types of ap...   \n",
      "1                                                    NaN   \n",
      "2                                                      2   \n",
      "3                                                      2   \n",
      "4                                                      3   \n",
      "...                                                  ...   \n",
      "10204                                                NaN   \n",
      "10205                                                NaN   \n",
      "10206                                                NaN   \n",
      "10207                                                NaN   \n",
      "10208                                                  2   \n",
      "\n",
      "                                                   Q30_5  \\\n",
      "0      Your personality may influence the types of ap...   \n",
      "1                                                    NaN   \n",
      "2                                                      6   \n",
      "3                                                      3   \n",
      "4                                                      5   \n",
      "...                                                  ...   \n",
      "10204                                                NaN   \n",
      "10205                                                NaN   \n",
      "10206                                                NaN   \n",
      "10207                                                NaN   \n",
      "10208                                                  7   \n",
      "\n",
      "                                                   Q30_6  \\\n",
      "0      Your personality may influence the types of ap...   \n",
      "1                                                    NaN   \n",
      "2                                                      3   \n",
      "3                                                      3   \n",
      "4                                                      5   \n",
      "...                                                  ...   \n",
      "10204                                                NaN   \n",
      "10205                                                NaN   \n",
      "10206                                                NaN   \n",
      "10207                                                NaN   \n",
      "10208                                                  2   \n",
      "\n",
      "                                                   Q30_7  \\\n",
      "0      Your personality may influence the types of ap...   \n",
      "1                                                    NaN   \n",
      "2                                                      4   \n",
      "3                                                      5   \n",
      "4                                                      5   \n",
      "...                                                  ...   \n",
      "10204                                                NaN   \n",
      "10205                                                NaN   \n",
      "10206                                                NaN   \n",
      "10207                                                NaN   \n",
      "10208                                                  7   \n",
      "\n",
      "                                                   Q30_8  \\\n",
      "0      Your personality may influence the types of ap...   \n",
      "1                                                    NaN   \n",
      "2                                                      3   \n",
      "3                                                      3   \n",
      "4                                                      2   \n",
      "...                                                  ...   \n",
      "10204                                                NaN   \n",
      "10205                                                NaN   \n",
      "10206                                                NaN   \n",
      "10207                                                NaN   \n",
      "10208                                                  5   \n",
      "\n",
      "                                                   Q30_9  \\\n",
      "0      Your personality may influence the types of ap...   \n",
      "1                                                    NaN   \n",
      "2                                                      4   \n",
      "3                                                      5   \n",
      "4                                                      5   \n",
      "...                                                  ...   \n",
      "10204                                                NaN   \n",
      "10205                                                NaN   \n",
      "10206                                                NaN   \n",
      "10207                                                NaN   \n",
      "10208                                                  2   \n",
      "\n",
      "                                                  Q30_10  \n",
      "0      Your personality may influence the types of ap...  \n",
      "1                                                    NaN  \n",
      "2                                                      4  \n",
      "3                                                      3  \n",
      "4                                                      3  \n",
      "...                                                  ...  \n",
      "10204                                                NaN  \n",
      "10205                                                NaN  \n",
      "10206                                                NaN  \n",
      "10207                                                NaN  \n",
      "10208                                                  4  \n",
      "\n",
      "[10209 rows x 161 columns]\n"
     ]
    },
    {
     "name": "stderr",
     "output_type": "stream",
     "text": [
      "C:\\Users\\LUANA\\anaconda3\\envs\\DataScience\\Lib\\site-packages\\openpyxl\\worksheet\\_reader.py:329: UserWarning: Unknown extension is not supported and will be removed\n",
      "  warn(msg)\n"
     ]
    }
   ],
   "source": [
    "caminho_arquivo = r'C:\\Users\\LUANA\\Documents\\Data Science\\Arquivos\\xlsx\\mobile_app_user_dataset_1.xlsx'  # adicione extensão se necessário\n",
    "coluna_desejada = 'Q10_1'\n",
    "\n",
    "df = pd.read_excel(caminho_arquivo)\n",
    "print(df)"
   ]
  },
  {
   "cell_type": "markdown",
   "id": "4930ec1b-271e-4ba4-8286-e1b7cdbfb6a1",
   "metadata": {},
   "source": [
    "A Tabela contém os dados sobre o uso de apps em diversos países"
   ]
  },
  {
   "cell_type": "code",
   "execution_count": 20,
   "id": "1dfa9fe3-bf2a-46cc-aa10-a07ae8a62929",
   "metadata": {},
   "outputs": [
    {
     "name": "stdout",
     "output_type": "stream",
     "text": [
      "Index(['ID', 'StartDate', 'EndDate', 'Response Status', 'Participant Type',\n",
      "       'Q1_1_TEXT', 'Q1_2_TEXT', 'Q1_3_TEXT', 'Q1_4_TEXT', 'Q1_5_TEXT',\n",
      "       ...\n",
      "       'Q30_1', 'Q30_2', 'Q30_3', 'Q30_4', 'Q30_5', 'Q30_6', 'Q30_7', 'Q30_8',\n",
      "       'Q30_9', 'Q30_10'],\n",
      "      dtype='object', length=161)\n"
     ]
    }
   ],
   "source": [
    "#Nome e contagem das colunas\n",
    "print(df.columns)"
   ]
  },
  {
   "cell_type": "code",
   "execution_count": 9,
   "id": "47e7d304-89fd-4780-93d0-5dbc52fad1f2",
   "metadata": {},
   "outputs": [
    {
     "name": "stdout",
     "output_type": "stream",
     "text": [
      "0        Why do you download an app? (please select all...\n",
      "1                                                      NaN\n",
      "2                                                        1\n",
      "3                                                        1\n",
      "4                                                      NaN\n",
      "                               ...                        \n",
      "10204                                                  NaN\n",
      "10205                                                  NaN\n",
      "10206                                                  NaN\n",
      "10207                                                  NaN\n",
      "10208                                                  NaN\n",
      "Name: Q10_1, Length: 10209, dtype: object\n"
     ]
    }
   ],
   "source": [
    "'''\n",
    "#Usando as respostas da pergunta \"Why do you download an app?\"\n",
    "\n",
    "- interact with friends and/or family. (1)\n",
    "- interact with people I don't know. (2)\n",
    "- To help me carry out a task. (3)\n",
    "- It is featured in the app store. (4)\n",
    "- It is on the top downloads chart. (5)\n",
    "- It is advertised in the apps that I am using. (6)\n",
    "- For entertainment. (7)\n",
    "- Out of curiosity. (8)\n",
    "- An impulsive purchase. (9)\n",
    "- It features brands or celebrities that I like (e.g., Coca-Cola, Michael Jackson). (10)\n",
    "- It was mentioned in the media (e.g., TV, newspaper, radio, blogs). (11)\n",
    "- It is an extension of the website that I use (e.g., Facebook app). (12)\n",
    "- It is recommended by friends and/or family. (13)\n",
    "- For someone else (e.g., children, partner). (14)\n",
    "- Other (please specify) (15) ____________________\n",
    "'''\n",
    "\n",
    "print(df['Q10_1'])"
   ]
  },
  {
   "cell_type": "code",
   "execution_count": 19,
   "id": "ebd979db-5221-4a8d-a4d7-d5198ff30174",
   "metadata": {},
   "outputs": [
    {
     "name": "stdout",
     "output_type": "stream",
     "text": [
      "                                                   Q10_1\n",
      "0      Why do you download an app? (please select all...\n",
      "1                                                      0\n",
      "2                                                      1\n",
      "3                                                      1\n",
      "4                                                      0\n",
      "...                                                  ...\n",
      "10204                                                  0\n",
      "10205                                                  0\n",
      "10206                                                  0\n",
      "10207                                                  0\n",
      "10208                                                  0\n",
      "\n",
      "[10209 rows x 1 columns]\n"
     ]
    }
   ],
   "source": [
    "df['Q10_1'] = df['Q10_1'].fillna(0)\n",
    "print(df)"
   ]
  },
  {
   "cell_type": "code",
   "execution_count": 11,
   "id": "8c29d451-2f14-4ac8-8992-16cb3b631eff",
   "metadata": {},
   "outputs": [
    {
     "name": "stdout",
     "output_type": "stream",
     "text": [
      "Porcentagem de células com valor 1 (participantes que responderam sim para a opção 1): 15.24%\n"
     ]
    }
   ],
   "source": [
    "# Conta quantos valores são 1\n",
    "total_1 = (df['Q10_1'] == 1).sum()\n",
    "\n",
    "# Calcula a porcentagem\n",
    "porcentagem_1 = (total_1 / 10209) * 100\n",
    "\n",
    "print(f'Porcentagem de células com valor 1 (participantes que responderam sim para a opção 1): {porcentagem_1:.2f}%')"
   ]
  },
  {
   "cell_type": "code",
   "execution_count": 14,
   "id": "dce0f831-fcca-4957-ad39-519abd4266af",
   "metadata": {},
   "outputs": [
    {
     "data": {
      "text/plain": [
       "(10209, 161)"
      ]
     },
     "execution_count": 14,
     "metadata": {},
     "output_type": "execute_result"
    }
   ],
   "source": [
    "df.shape"
   ]
  },
  {
   "cell_type": "code",
   "execution_count": 13,
   "id": "191cf01b-3f5b-468a-9af2-d9ec960b4225",
   "metadata": {},
   "outputs": [
    {
     "name": "stdout",
     "output_type": "stream",
     "text": [
      "10209\n"
     ]
    }
   ],
   "source": [
    "total_linhas = len(df)\n",
    "print(total_linhas)\n",
    "#contando apenas as linhas de dados válidas, excluindo o cabeçalho (nome da coluna)"
   ]
  },
  {
   "cell_type": "code",
   "execution_count": 21,
   "id": "991fb651-a96d-468e-b0e7-1a662032ae56",
   "metadata": {},
   "outputs": [
    {
     "name": "stdout",
     "output_type": "stream",
     "text": [
      "Porcentagem de células com valor 1 na Q10_1 é: 15.24%\n",
      "Porcentagem de células com valor 1 na Q10_2 é: 4.47%\n",
      "Porcentagem de células com valor 1 na Q10_3 é: 26.46%\n",
      "Porcentagem de células com valor 1 na Q10_4 é: 9.72%\n",
      "Porcentagem de células com valor 1 na Q10_5 é: 8.62%\n",
      "Porcentagem de células com valor 1 na Q10_6 é: 5.28%\n",
      "Porcentagem de células com valor 1 na Q10_7 é: 29.91%\n",
      "Porcentagem de células com valor 1 na Q10_8 é: 18.31%\n",
      "Porcentagem de células com valor 1 na Q10_9 é: 4.06%\n",
      "Porcentagem de células com valor 1 na Q10_10 é: 4.12%\n",
      "Porcentagem de células com valor 1 na Q10_11 é: 10.55%\n",
      "Porcentagem de células com valor 1 na Q10_12 é: 14.61%\n",
      "Porcentagem de células com valor 1 na Q10_13 é: 18.81%\n",
      "Porcentagem de células com valor 1 na Q10_14 é: 6.44%\n",
      "Porcentagem de células com valor 1 na Q10_15 é: 4.41%\n"
     ]
    }
   ],
   "source": [
    "# Lista com as colunas Q10_1 até Q10_15 (f cria strings formatadas)\n",
    "colunas_q10 = [f'Q10_{i}' for i in range(1, 16)]\n",
    "\n",
    "# Dicionário para armazenar as porcentagens\n",
    "porcentagens = {}\n",
    "\n",
    "for coluna in colunas_q10:\n",
    "    # Substitui NaN por 0 para evitar erros na contagem\n",
    "    df[coluna] = df[coluna].fillna(0)\n",
    "    # Conta quantos valores são iguais a 1 (resposta positiva)\n",
    "    total_1 = (df[coluna] == 1).sum()\n",
    "    # Calcula porcentagem\n",
    "    porcentagem_1 = (total_1 / total_linhas) * 100\n",
    "    # Armazena no dicionário\n",
    "    porcentagens[coluna] = porcentagem_1\n",
    "\n",
    "# Exibe os resultados\n",
    "for coluna, perc in porcentagens.items():\n",
    "    print(f'Porcentagem de células com valor 1 na {coluna} é: {perc:.2f}%')"
   ]
  },
  {
   "cell_type": "code",
   "execution_count": 22,
   "id": "c49014f8-0d73-4ef8-9aac-f2974d9b687e",
   "metadata": {},
   "outputs": [
    {
     "name": "stdout",
     "output_type": "stream",
     "text": [
      "{'Q10_1': np.float64(15.241453619355472), 'Q10_2': np.float64(4.466647076109315), 'Q10_3': np.float64(26.457047703007152), 'Q10_4': np.float64(9.716916446272897), 'Q10_5': np.float64(8.619845234596925), 'Q10_6': np.float64(5.279655206190617), 'Q10_7': np.float64(29.914781075521596), 'Q10_8': np.float64(18.307375844842785), 'Q10_9': np.float64(4.055245371730826), 'Q10_10': np.float64(4.123812322460574), 'Q10_11': np.float64(10.549515133705555), 'Q10_12': np.float64(14.614555784112056), 'Q10_13': np.float64(18.80693505730238), 'Q10_14': np.float64(6.4354980899206575), 'Q10_15': np.float64(4.407875404055246)}\n"
     ]
    }
   ],
   "source": [
    "print(porcentagens)"
   ]
  },
  {
   "cell_type": "code",
   "execution_count": 24,
   "id": "ce533477-7384-4b94-85b3-f757561a570a",
   "metadata": {},
   "outputs": [
    {
     "name": "stdout",
     "output_type": "stream",
     "text": [
      "\n",
      "Nova Tabela com os Motivos e suas Porcentagens:\n",
      "                                            Porcentagem (%)\n",
      "Motivo de Download                                         \n",
      "Interagir com amigos e/ou família                 15.241454\n",
      "Interagir com pessoas que não conheço              4.466647\n",
      "Ajudar a realizar uma tarefa                      26.457048\n",
      "Em destaque na loja de aplicativos                 9.716916\n",
      "Na lista dos mais baixados                         8.619845\n",
      "Anunciado em apps que uso                          5.279655\n",
      "Para entretenimento                               29.914781\n",
      "Por curiosidade                                   18.307376\n",
      "Compra impulsiva                                   4.055245\n",
      "Apresenta marcas ou celebridades que gosto         4.123812\n",
      "Mencionado na mídia                               10.549515\n",
      "Extensão de site que uso                          14.614556\n",
      "Recomendado por amigos e/ou família               18.806935\n",
      "Para outra pessoa                                  6.435498\n",
      "Outro                                              4.407875\n"
     ]
    }
   ],
   "source": [
    "# Mapeia os nomes originais relacionando com os novos nomes (motivos/descritivos)\n",
    "mapeamento_nomes = {\n",
    "    'Q10_1': 'Interagir com amigos e/ou família',\n",
    "    'Q10_2': 'Interagir com pessoas que não conheço',\n",
    "    'Q10_3': 'Ajudar a realizar uma tarefa',\n",
    "    'Q10_4': 'Em destaque na loja de aplicativos',\n",
    "    'Q10_5': 'Na lista dos mais baixados',\n",
    "    'Q10_6': 'Anunciado em apps que uso',\n",
    "    'Q10_7': 'Para entretenimento',\n",
    "    'Q10_8': 'Por curiosidade',\n",
    "    'Q10_9': 'Compra impulsiva',\n",
    "    'Q10_10': 'Apresenta marcas ou celebridades que gosto',\n",
    "    'Q10_11': 'Mencionado na mídia',\n",
    "    'Q10_12': 'Extensão de site que uso',\n",
    "    'Q10_13': 'Recomendado por amigos e/ou família',\n",
    "    'Q10_14': 'Para outra pessoa',\n",
    "    'Q10_15': 'Outro'\n",
    "}\n",
    "\n",
    "'''\n",
    "# { ... }: Isso indica que estamos criando um dicionário (Se fosse [ ... ] seria uma lista, e ( ... ) seria uma tupla ou um gerador)\n",
    "\n",
    "# porcentagens.items(): O método .items() de um dicionário retorna uma sequência de pares (chave, valor) do dicionário.(Nesse caso vai retornar algo como:\n",
    "[('Q10_1', 15.24), ('Q10_2', 4.56), ('Q10_7', 20.00), ...].\n",
    "\n",
    "# for col_original, porcentagem in ...: A cada iteração do loop, a variável col_original vai receber a chave (ex: 'Q10_1', 'Q10_2') \n",
    "e a variável porcentagem vai receber o valor correspondente (ex: 15.24, 4.56).\n",
    "\n",
    "# if col_original in mapeamento_nomes:\n",
    "condição (filtro). Significa que o par (chave:valor) só será incluído no novo dicionário nova_tabela_dados se a col_original(como 'Q10_1') existir\n",
    "como uma chave no dicionário mapeamento_nomes.\n",
    "Para garantir que você só tente incluir porcentagens para as colunas mapeadas. Este if evitaria um erro (KeyError) ao tentar acessar mapeamento_nomes['Q10_99'].\n",
    "\n",
    "# mapeamento_nomes[col_original]: porcentagem:\n",
    "Esta é a parte que define o par chave:valor para o novo dicionário nova_tabela_dados.\n",
    "mapeamento_nomes[col_original]: Aqui, você está usando a col_original (que é a chave do dicionário porcentagens, como 'Q10_1') \n",
    "para procurar o valor correspondente no dicionário mapeamento_nomes.\n",
    "Exemplo: Se col_original for 'Q10_1', então mapeamento_nomes['Q10_1'] resultará em 'Interagir com amigos e/ou família'. Este será o novo nome da chave.\n",
    ": porcentagem: O valor associado a essa nova chave será a porcentagem que você obteve do dicionário porcentagens.\n",
    "'''\n",
    "\n",
    "nova_tabela_descritiva = {\n",
    "    mapeamento_nomes[col_original]: porcentagem\n",
    "    for col_original, porcentagem in porcentagens.items()\n",
    "    if col_original in mapeamento_nomes\n",
    "}\n",
    "\n",
    "'''\n",
    "# DataFrame(): É a classe principal do Pandas usada para criar um DataFrame. Um df é como uma planilha ou uma tabela de db, com linhas e colunas.\n",
    "\n",
    "# list(nova_tabela_descritiva.items())\n",
    "nova_tabela_descritiva: dicionário que criado na etapa anterior usando a compreensão de dicionário. \n",
    "Tem os nomes descritivos em português como chaves e as porcentagens como valores:\n",
    "{'Interagir com amigos e/ou família': 15.24, 'Para entretenimento': 20.00, ...}\n",
    ".items(): método de dicionário que retorna uma \"visão\" dos pares (chave, valor) do dicionário.\n",
    "\n",
    "nova_tabela_dados.items() resultaria em algo como dict_items([('Interagir com amigos e/ou família', 15.24), ('Para entretenimento', 20.00), ...]).\n",
    "\n",
    "list(...): A função list() converte essa \"visão\" dos itens do dicionário em uma lista de tuplas. Cada tupla dentro dessa lista representa uma linha \n",
    "potencial na sua futura tabela, onde o primeiro elemento da tupla é o motivo e o segundo é a porcentagem.\n",
    "\n",
    "\n",
    "#columns=['Motivo de Download', 'Porcentagem (%)']\n",
    "Este é um argumento opcional (mas muito útil neste caso) da função pd.DataFrame().permite que especificar os nomes das colunas do novo DataFrame.\n",
    "(Ao fornecer uma lista de tuplas para o DataFrame(), ele interpreta o 1º elemento de cada tupla como a 1ª coluna, o 2º elemento como a 2ª coluna...\n",
    "'''\n",
    "\n",
    "df_porcentagens = pd.DataFrame(list(nova_tabela_descritiva.items()), columns=['Motivo de Download', 'Porcentagem (%)'])\n",
    "\n",
    "'''\n",
    "Opcional: Definir o 'Motivo de Download' como índice. Melhor organização, acesso e apresentação, \n",
    "especialmente útil quando você tem uma coluna que serve como um identificador natural ou uma categoria principal para suas linhas\n",
    "'''\n",
    "\n",
    "df_porcentagens = df_porcentagens.set_index('Motivo de Download')\n",
    "\n",
    "# Exibir a nova tabela\n",
    "print(\"\\nNova Tabela com os Motivos e suas Porcentagens:\")\n",
    "print(df_porcentagens)"
   ]
  },
  {
   "cell_type": "code",
   "execution_count": 27,
   "id": "e358f3e1-19bd-4ecb-93f0-c51c91b8e292",
   "metadata": {},
   "outputs": [
    {
     "name": "stdout",
     "output_type": "stream",
     "text": [
      "                                            Porcentagem (%)\n",
      "Motivo de Download                                         \n",
      "Para entretenimento                               29.914781\n",
      "Ajudar a realizar uma tarefa                      26.457048\n",
      "Recomendado por amigos e/ou família               18.806935\n",
      "Por curiosidade                                   18.307376\n",
      "Interagir com amigos e/ou família                 15.241454\n",
      "Extensão de site que uso                          14.614556\n",
      "Mencionado na mídia                               10.549515\n",
      "Em destaque na loja de aplicativos                 9.716916\n",
      "Na lista dos mais baixados                         8.619845\n",
      "Para outra pessoa                                  6.435498\n",
      "Anunciado em apps que uso                          5.279655\n",
      "Interagir com pessoas que não conheço              4.466647\n",
      "Outro                                              4.407875\n",
      "Apresenta marcas ou celebridades que gosto         4.123812\n",
      "Compra impulsiva                                   4.055245\n"
     ]
    }
   ],
   "source": [
    "df_ordenada = df_porcentagens.sort_values(\"Porcentagem (%)\", ascending=False)\n",
    "print(df_ordenada)"
   ]
  },
  {
   "cell_type": "code",
   "execution_count": 31,
   "id": "e900bb61-6103-4023-93b7-7d1c74411891",
   "metadata": {},
   "outputs": [
    {
     "data": {
      "text/html": [
       "<div>\n",
       "<style scoped>\n",
       "    .dataframe tbody tr th:only-of-type {\n",
       "        vertical-align: middle;\n",
       "    }\n",
       "\n",
       "    .dataframe tbody tr th {\n",
       "        vertical-align: top;\n",
       "    }\n",
       "\n",
       "    .dataframe thead th {\n",
       "        text-align: right;\n",
       "    }\n",
       "</style>\n",
       "<table border=\"1\" class=\"dataframe\">\n",
       "  <thead>\n",
       "    <tr style=\"text-align: right;\">\n",
       "      <th></th>\n",
       "      <th>Porcentagem (%)</th>\n",
       "    </tr>\n",
       "  </thead>\n",
       "  <tbody>\n",
       "    <tr>\n",
       "      <th>count</th>\n",
       "      <td>15.000000</td>\n",
       "    </tr>\n",
       "    <tr>\n",
       "      <th>mean</th>\n",
       "      <td>12.066477</td>\n",
       "    </tr>\n",
       "    <tr>\n",
       "      <th>std</th>\n",
       "      <td>8.314159</td>\n",
       "    </tr>\n",
       "    <tr>\n",
       "      <th>min</th>\n",
       "      <td>4.055245</td>\n",
       "    </tr>\n",
       "    <tr>\n",
       "      <th>25%</th>\n",
       "      <td>4.873151</td>\n",
       "    </tr>\n",
       "    <tr>\n",
       "      <th>50%</th>\n",
       "      <td>9.716916</td>\n",
       "    </tr>\n",
       "    <tr>\n",
       "      <th>75%</th>\n",
       "      <td>16.774415</td>\n",
       "    </tr>\n",
       "    <tr>\n",
       "      <th>max</th>\n",
       "      <td>29.914781</td>\n",
       "    </tr>\n",
       "  </tbody>\n",
       "</table>\n",
       "</div>"
      ],
      "text/plain": [
       "       Porcentagem (%)\n",
       "count        15.000000\n",
       "mean         12.066477\n",
       "std           8.314159\n",
       "min           4.055245\n",
       "25%           4.873151\n",
       "50%           9.716916\n",
       "75%          16.774415\n",
       "max          29.914781"
      ]
     },
     "execution_count": 31,
     "metadata": {},
     "output_type": "execute_result"
    }
   ],
   "source": [
    "df_porcentagens.describe()"
   ]
  },
  {
   "cell_type": "code",
   "execution_count": 35,
   "id": "e230642e-640b-4d02-b504-b8ddf14e197b",
   "metadata": {},
   "outputs": [
    {
     "name": "stdout",
     "output_type": "stream",
     "text": [
      "### Estatísticas gerais com NumPy ###\n",
      "Porcentagem média: 12.07\n",
      "Desvio padrão: 8.03\n",
      "Maior porcentagem: 29.914781075521596\n",
      "Menor porcentagem: 4.055245371730826\n"
     ]
    }
   ],
   "source": [
    "# Estatísticas gerais com NumPy\n",
    "# Extraia APENAS OS VALORES do dicionário 'porcentagens' e converta para uma lista ou um array NumPy\n",
    "valores = list(porcentagens.values())\n",
    "# Ou diretamente para um array NumPy: valores = np.array(list(porcentagens.values()))\n",
    "\n",
    "# Agora as operações NumPy\n",
    "print(\"### Estatísticas gerais com NumPy ###\")\n",
    "print(f\"Porcentagem média: {np.mean(valores):.2f}\")\n",
    "print(f\"Desvio padrão: {np.std(valores):.2f}\")\n",
    "print(f\"Maior porcentagem: {np.max(valores)}\")\n",
    "print(f\"Menor porcentagem: {np.min(valores)}\")"
   ]
  },
  {
   "cell_type": "code",
   "execution_count": 46,
   "id": "c56d8a81-a4a2-4174-bd53-7c2681b6bf03",
   "metadata": {},
   "outputs": [
    {
     "data": {
      "image/png": "[encoded data removed]",
      "text/plain": [
       "<Figure size 1600x800 with 1 Axes>"
      ]
     },
     "metadata": {},
     "output_type": "display_data"
    }
   ],
   "source": [
    "#Gráfico de barras:\n",
    "\n",
    "'''\n",
    "rotation=45: Rotaciona os rótulos do eixo em 45 graus.\n",
    "ha='right': Alinha horizontalmente os rótulos à direita em relação ao ponto de rotação, o que ajuda a evitar a sobreposição.\n",
    "fontsize=10: Tamanho da fonte dos rótulos do eixo\n",
    "'''\n",
    "plt.figure(figsize=(16, 8))\n",
    "plt.bar(df_porcentagens.index, df_porcentagens['Porcentagem (%)'], color='skyblue')\n",
    "plt.title('Motivos para fazer download um app')\n",
    "plt.xlabel('Motivo de Download')\n",
    "plt.ylabel('Porcentagem (%)')\n",
    "plt.xticks(rotation=45, ha='right', fontsize=10)\n",
    "plt.tight_layout()\n",
    "plt.show()"
   ]
  },
  {
   "cell_type": "code",
   "execution_count": null,
   "id": "6f4faa60-30dc-41fd-a7a0-615834a77b7d",
   "metadata": {},
   "outputs": [],
   "source": []
  }
 ],
 "metadata": {
  "kernelspec": {
   "display_name": "Python 3 (ipykernel)",
   "language": "python",
   "name": "python3"
  },
  "language_info": {
   "codemirror_mode": {
    "name": "ipython",
    "version": 3
   },
   "file_extension": ".py",
   "mimetype": "text/x-python",
   "name": "python",
   "nbconvert_exporter": "python",
   "pygments_lexer": "ipython3",
   "version": "3.13.5"
  }
 },
 "nbformat": 4,
 "nbformat_minor": 5
}
